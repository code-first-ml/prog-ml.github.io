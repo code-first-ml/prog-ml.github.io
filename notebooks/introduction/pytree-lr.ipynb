{
 "cells": [
  {
   "cell_type": "code",
   "execution_count": 7,
   "id": "3021b22e",
   "metadata": {},
   "outputs": [],
   "source": [
    "import jax\n",
    "import jax.numpy as jnp\n",
    "import numpy as np"
   ]
  },
  {
   "cell_type": "code",
   "execution_count": 11,
   "id": "b0cc7196",
   "metadata": {},
   "outputs": [],
   "source": [
    "layer_sizes = [1, 3, 2, 2, 1]"
   ]
  },
  {
   "cell_type": "code",
   "execution_count": 12,
   "id": "a883c561",
   "metadata": {},
   "outputs": [],
   "source": [
    "params = {}\n",
    "for i, (n_in, n_out) in enumerate(zip(layer_sizes[:-1], layer_sizes[1:])):\n",
    "    params[f\"layer_{i}\"] = {\"weights\": np.random.randn(n_in, n_out) , \"biases\": np.ones(n_out, )}"
   ]
  },
  {
   "cell_type": "code",
   "execution_count": 13,
   "id": "3a92b8a6",
   "metadata": {},
   "outputs": [
    {
     "data": {
      "text/plain": [
       "{'layer_0': {'weights': array([[ 0.32127894, -0.90215931, -0.13716245]]),\n",
       "  'biases': array([1., 1., 1.])},\n",
       " 'layer_1': {'weights': array([[ 0.62946452,  1.04976083],\n",
       "         [-1.04683001,  0.10236843],\n",
       "         [ 0.92451111,  0.46405542]]),\n",
       "  'biases': array([1., 1.])},\n",
       " 'layer_2': {'weights': array([[ 0.49116094, -0.61675675],\n",
       "         [-0.09043199, -1.15349577]]),\n",
       "  'biases': array([1., 1.])},\n",
       " 'layer_3': {'weights': array([[ 1.00058301],\n",
       "         [-1.13532627]]),\n",
       "  'biases': array([1.])}}"
      ]
     },
     "execution_count": 13,
     "metadata": {},
     "output_type": "execute_result"
    }
   ],
   "source": [
    "params"
   ]
  },
  {
   "cell_type": "code",
   "execution_count": 14,
   "id": "5b515931",
   "metadata": {},
   "outputs": [
    {
     "data": {
      "text/plain": [
       "PyTreeDef({'layer_0': {'biases': *, 'weights': *}, 'layer_1': {'biases': *, 'weights': *}, 'layer_2': {'biases': *, 'weights': *}, 'layer_3': {'biases': *, 'weights': *}})"
      ]
     },
     "execution_count": 14,
     "metadata": {},
     "output_type": "execute_result"
    }
   ],
   "source": [
    "jax.tree_structure(params)"
   ]
  },
  {
   "cell_type": "code",
   "execution_count": 16,
   "id": "0520b49f",
   "metadata": {},
   "outputs": [
    {
     "data": {
      "text/plain": [
       "{'layer_0': {'biases': (3,), 'weights': (1, 3)},\n",
       " 'layer_1': {'biases': (2,), 'weights': (3, 2)},\n",
       " 'layer_2': {'biases': (2,), 'weights': (2, 2)},\n",
       " 'layer_3': {'biases': (1,), 'weights': (2, 1)}}"
      ]
     },
     "execution_count": 16,
     "metadata": {},
     "output_type": "execute_result"
    }
   ],
   "source": [
    "jax.tree_map(lambda x: x.shape, params)"
   ]
  },
  {
   "cell_type": "code",
   "execution_count": 17,
   "id": "b61143d6",
   "metadata": {},
   "outputs": [
    {
     "data": {
      "text/plain": [
       "[array([1., 1., 1.]),\n",
       " array([[ 0.32127894, -0.90215931, -0.13716245]]),\n",
       " array([1., 1.]),\n",
       " array([[ 0.62946452,  1.04976083],\n",
       "        [-1.04683001,  0.10236843],\n",
       "        [ 0.92451111,  0.46405542]]),\n",
       " array([1., 1.]),\n",
       " array([[ 0.49116094, -0.61675675],\n",
       "        [-0.09043199, -1.15349577]]),\n",
       " array([1.]),\n",
       " array([[ 1.00058301],\n",
       "        [-1.13532627]])]"
      ]
     },
     "execution_count": 17,
     "metadata": {},
     "output_type": "execute_result"
    }
   ],
   "source": [
    "jax.tree_leaves(params)"
   ]
  },
  {
   "cell_type": "code",
   "execution_count": 18,
   "id": "9b482910",
   "metadata": {},
   "outputs": [
    {
     "data": {
      "text/plain": [
       "'layer_3'"
      ]
     },
     "execution_count": 18,
     "metadata": {},
     "output_type": "execute_result"
    }
   ],
   "source": [
    "*hidden, last = params\n",
    "last"
   ]
  },
  {
   "cell_type": "code",
   "execution_count": 20,
   "id": "59303854",
   "metadata": {},
   "outputs": [
    {
     "data": {
      "text/plain": [
       "4"
      ]
     },
     "execution_count": 20,
     "metadata": {},
     "output_type": "execute_result"
    }
   ],
   "source": [
    "len(params)"
   ]
  },
  {
   "cell_type": "code",
   "execution_count": 21,
   "id": "4c9e5fc2",
   "metadata": {},
   "outputs": [],
   "source": [
    "activations = [jax.nn.relu, jax.nn.relu, jax.nn.relu, lambda x: x]"
   ]
  },
  {
   "cell_type": "code",
   "execution_count": 22,
   "id": "82fc4dd8",
   "metadata": {},
   "outputs": [],
   "source": [
    "def forward(params, activations, x):\n",
    "    for i, (layer_name, layer_params) in enumerate(params.items()):\n",
    "        x = activations[i](x @ layer_params['weights'] + layer_params['biases'])\n",
    "    return x"
   ]
  },
  {
   "cell_type": "code",
   "execution_count": 23,
   "id": "afd6fb1f",
   "metadata": {},
   "outputs": [
    {
     "ename": "NameError",
     "evalue": "name 'x' is not defined",
     "output_type": "error",
     "traceback": [
      "\u001b[0;31m---------------------------------------------------------------------------\u001b[0m",
      "\u001b[0;31mNameError\u001b[0m                                 Traceback (most recent call last)",
      "Input \u001b[0;32mIn [23]\u001b[0m, in \u001b[0;36m<cell line: 1>\u001b[0;34m()\u001b[0m\n\u001b[0;32m----> 1\u001b[0m forward(params, activations, \u001b[43mx\u001b[49m)\n",
      "\u001b[0;31mNameError\u001b[0m: name 'x' is not defined"
     ]
    }
   ],
   "source": [
    "forward(params, activations, x)"
   ]
  },
  {
   "cell_type": "code",
   "execution_count": null,
   "id": "0fead668",
   "metadata": {},
   "outputs": [],
   "source": []
  }
 ],
 "metadata": {
  "kernelspec": {
   "display_name": "Python 3 (ipykernel)",
   "language": "python",
   "name": "python3"
  },
  "language_info": {
   "codemirror_mode": {
    "name": "ipython",
    "version": 3
   },
   "file_extension": ".py",
   "mimetype": "text/x-python",
   "name": "python",
   "nbconvert_exporter": "python",
   "pygments_lexer": "ipython3",
   "version": "3.8.13"
  }
 },
 "nbformat": 4,
 "nbformat_minor": 5
}
