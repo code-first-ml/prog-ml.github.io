{
 "cells": [
  {
   "cell_type": "markdown",
   "id": "d65bcc11",
   "metadata": {},
   "source": [
    "### Probability Mass Function (PMF)\n",
    "\n",
    "A lot of this material is inspired by:\n",
    "\n",
    "1. Wiki article \n",
    "2. Khan academy videos \n",
    "3. MIT OCW course \n",
    "\n",
    "Assume you toss a coin once, the coin can land either as heads or tails. The outcome is unknown before the throw. \n",
    "\n",
    "We can denote the sample space as: $\\Omega = \\{H, T\\}$\n",
    "\n",
    "Now, let us consider a discrete random variable $X$ which takes the values 1 and 0 if the coin lands as Heads and Tails respectively, i.e, $X$(Heads)  =  1 and $X$(Tails)  = 0. Thus, $X$ can be used to represent the occurence of Heads in a single toss of a coin. \n",
    "\n",
    "Let, $R_{X}$ be the range of X, then \n",
    "    <center>$R_{X} = \\{0, 1\\}$.\n",
    "\n",
    "Then, Probability Mass Function(PMF) of discrete random variable $X$ gives the probability distribution for each vaule of $X$.\n",
    "    \n",
    "<center>$P_{X}(0) = P_{X}(X=0) = \\frac{1}{2}$ when Heads occurs <br>\n",
    "        $P_{X}(1) = P_{X}(X=1) = \\frac{1}{2}$ when Heads does not occur\n",
    "\n",
    "```{admonition} Probability Mass Function (PMF)\n",
    "Probability mass function also called the probability law is the probability distribution of a discrete random variable, and provides the possible values and their associated probabilities.It is the function $P : \\mathbb{R} → [ 0 , 1 ]$  defined by <br>\n",
    "$P_{X}(x_k) = P_{X}(X=x_k)$ where $k = 1,2,3,\\dots$<br>\n",
    "where $X$ is a discrete random variable with range $R_{X} = \\{x_1,x_2,x_3,\\dots\\}$ (finite or countably infinite).\n",
    "```\n",
    "<br>\n",
    "Example. Let us consider tossing a fair coin twice and finding the probability mass function (PMF) of a random discrete variable $Y$ which observe the number of occurences of Heads in each event.\n",
    "\n",
    "The sample space for this example is:\n",
    "    <center>$S=\\{HH,HT,TH,TT\\}$.\n",
    "\n",
    "The number of Heads will be 0, 1 or 2. Thus \n",
    "    <center>$R_{Y} = \\{0, 1, 2\\}$.    \n",
    "    \n",
    "Since, it is a finite set, thus the variable $Y$ is discrete random variable. Therefore, the PMF of $Y$, $P_Y$ is defined as \n",
    "\n",
    "<center>$P_{Y}(k) = P_{Y}(Y=k)$ for $k = 0,1,2$.\n",
    "\n",
    "We have,\n",
    "<center>$P_{Y}(0) = P_{Y}(Y=0) = P(TT) = \\frac{1}{4}$,<br>\n",
    "$P_{Y}(1) = P_{Y}(Y=1) = P(\\{HT,TH\\}) = \\frac{1}{4} + \\frac{1}{4} = \\frac{1}{2}$,<br>\n",
    "$P_{Y}(2) = P_{Y}(Y=2) = P(HH) = \\frac{1}{4}$.\n",
    "    \n",
    "    "
   ]
  }
 ],
 "metadata": {
  "kernelspec": {
   "display_name": "Python 3",
   "language": "python",
   "name": "python3"
  },
  "language_info": {
   "codemirror_mode": {
    "name": "ipython",
    "version": 3
   },
   "file_extension": ".py",
   "mimetype": "text/x-python",
   "name": "python",
   "nbconvert_exporter": "python",
   "pygments_lexer": "ipython3",
   "version": "3.8.8"
  }
 },
 "nbformat": 4,
 "nbformat_minor": 5
}
